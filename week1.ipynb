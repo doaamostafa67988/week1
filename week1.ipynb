{
  "nbformat": 4,
  "nbformat_minor": 0,
  "metadata": {
    "colab": {
      "name": "week1.ipynb",
      "provenance": []
    },
    "kernelspec": {
      "name": "python3",
      "display_name": "Python 3"
    }
  },
  "cells": [
    {
      "cell_type": "markdown",
      "metadata": {
        "id": "0dAQK0HHVzsP"
      },
      "source": [
        "#The Battle of the Neighborhoods - Week 1 data:\r\n",
        "City will be analyzed in this project : Paris.\r\n",
        "\r\n",
        "We will be using the below datasets for analyzing Paris.\r\n",
        "\r\n",
        "In this project, three different datasets will be used to solve the problem:\r\n",
        "\r\n",
        "Paris Recorded Crime,List of Paris Boroughs, *Foursquare API. After acquiring them from original and reliable sources, they will be wrangled and cleansed into more useful forms for further analysis.\r\n",
        "\r\n",
        "Paris recorded crime\r\n",
        "website url: https://www.dailymail.co.uk/news/article-7635301/Paris-sees-violent-crime-rise-70-CENT-areas-police-say-struggling-cope.html\r\n",
        "\r\n",
        "List of Paris Boroughs\r\n",
        "website url: https://parismap360.com/paris-arrondissement-map\r\n",
        "\r\n",
        "Foursquare API\r\n",
        "url: https://developer.foursquare.com/"
      ]
    },
    {
      "cell_type": "code",
      "metadata": {
        "id": "S63vNQmRWEZP"
      },
      "source": [
        ""
      ],
      "execution_count": null,
      "outputs": []
    }
  ]
}