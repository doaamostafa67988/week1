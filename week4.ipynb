{
  "nbformat": 4,
  "nbformat_minor": 0,
  "metadata": {
    "colab": {
      "name": "week4.ipynb",
      "provenance": []
    },
    "kernelspec": {
      "name": "python3",
      "display_name": "Python 3"
    }
  },
  "cells": [
    {
      "cell_type": "markdown",
      "metadata": {
        "id": "0dAQK0HHVzsP"
      },
      "source": [
        "#The Battle of the Neighborhoods - Week 4 Assignment\r\n",
        "Introduction & Business Problem :\r\n",
        "\r\n",
        "Problem Background:\r\n",
        "\r\n",
        "Paris is the capital and most populous city of France, with an area of 105 square kilometres (41 square miles) and an official estimated population of 2,140,526 residents as of 1 January 2019. Since the 17th century, Paris has been one of Europe's major centres of finance, diplomacy, commerce, fashion, science, and the arts. The City of Paris is the centre and seat of government of the Île-de-France, or Paris Region, which has an estimated official 2019 population of 12,213,364, or about 18 percent of the population of France. The Paris Region had a GDP of €709 billion ($808 billion) in 2017.\r\n",
        "\r\n",
        "[3] According to the Economist Intelligence Unit Worldwide Cost of Living Survey in 2018, Paris was the second most expensive city in the world, after Singapore, and ahead of Zürich, Hong Kong, Oslo and Geneva.[4] Another source ranked Paris as most expensive, on a par with Singapore and Hong Kong, in 2018.\r\n",
        "\r\n",
        "##Problem Description:\r\n",
        "Find a full-time job in Paris in data science and teaching close to your home and that fits your schedule. Fast and super-easy process, view all our available positions in our online portal and apply immediately to offers that best match your interests.\r\n",
        "\r\n",
        "From the student perspective, a lot of factors come into play while searching for the best accommodation, including location, safety and rent fee. However, in this project, we will only focus on the safety and the general atmosphere of the neighborhood for simplicity purpose.\r\n",
        "\r\n",
        "Target Audience:\r\n",
        "This research is designed to be useful for data scientists looking for a profitable location or a place to live in Paris.\r\n",
        "\r\n",
        "It would interest anyone who would to pursue a good job in Paris in the future.\r\n",
        "\r\n",
        "Success Criteria:\r\n",
        "The success criteria for this project is a good recommendation of location in Paris to build a dormitory based on the safety and great location."
      ]
    },
    {
      "cell_type": "code",
      "metadata": {
        "id": "S63vNQmRWEZP"
      },
      "source": [
        ""
      ],
      "execution_count": null,
      "outputs": []
    }
  ]
}